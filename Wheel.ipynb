{
  "nbformat": 4,
  "nbformat_minor": 0,
  "metadata": {
    "colab": {
      "name": "남수정.ipynb",
      "provenance": [],
      "collapsed_sections": []
    },
    "kernelspec": {
      "name": "python3",
      "display_name": "Python 3"
    },
    "language_info": {
      "name": "python"
    },
    "accelerator": "GPU"
  },
  "cells": [
    {
      "cell_type": "markdown",
      "metadata": {
        "id": "rOnes09Yu8f8"
      },
      "source": [
        "# 모델 구현"
      ]
    },
    {
      "cell_type": "markdown",
      "metadata": {
        "id": "hkqxlNFMu0QK"
      },
      "source": [
        "# CNN으로 휠체어와 자전거 분류"
      ]
    },
    {
      "cell_type": "code",
      "source": [
        "import numpy as np\n",
        "import torch\n",
        "import torchvision\n",
        "import torchvision.transforms as transforms\n",
        "\n",
        "#데이터 주소\n",
        "train_data_path = \"/content/drive/MyDrive/Dataset_CNN/train\"\n",
        "test_data_path = \"/content/drive/MyDrive/Dataset_CNN/test\"\n",
        "\n",
        "#이미지 크기 20*20으로 변환\n",
        "trans = transforms.Compose([transforms.Resize((20, 20)), transforms.ToTensor()])\n",
        "\n",
        "#데이터셋 정의\n",
        "Baby_train_data = torchvision.datasets.ImageFolder(root = train_data_path, transform = trans)\n",
        "Baby_test_data = torchvision.datasets.ImageFolder(root = test_data_path, transform = trans)\n",
        "\n",
        "#train 데이터셋을 train과 validation 데이터셋으로 나눠줌(7:3 비율)\n",
        "train_size = int(0.7 * len(Baby_train_data))\n",
        "valid_size = len(Baby_train_data) - train_size\n",
        "\n",
        "train_data, valid_data = torch.utils.data.random_split(Baby_train_data, [train_size, valid_size])\n",
        "\n",
        "#배치 사이즈 조정을 위한 데이터로더 \n",
        "train_loader = torch.utils.data.DataLoader(Baby_train_data, batch_size= 100, shuffle= True)\n",
        "test_loader = torch.utils.data.DataLoader(Baby_test_data, batch_size= 100, shuffle= False)\n",
        "valid_loader = torch.utils.data.DataLoader(valid_data, batch_size= 100, shuffle= True)\n",
        "\n",
        "print('data ready~')\n",
        "\n",
        "#GPU 연산\n",
        "USE_CUDA = torch.cuda.is_available()\n",
        "DEVICE = torch.device(\"cuda\" if USE_CUDA else \"cpu\")\n",
        "print(DEVICE)"
      ],
      "metadata": {
        "colab": {
          "base_uri": "https://localhost:8080/"
        },
        "id": "HKh4EZOvRjb-",
        "outputId": "83bbe63c-4fe9-44f7-8eaf-1cec108b40c2"
      },
      "execution_count": null,
      "outputs": [
        {
          "output_type": "stream",
          "name": "stdout",
          "text": [
            "data ready~\n",
            "cuda\n"
          ]
        }
      ]
    },
    {
      "cell_type": "code",
      "source": [
        "import matplotlib.pyplot as plt\n",
        "import numpy as np\n",
        "\n",
        "#train 데이터셋 이미지 출력\n",
        "class_names = Baby_train_data.classes\n",
        "sample_size = 9\n",
        "random_idx = np.random.randint(len(train_data), size=sample_size)\n",
        "\n",
        "plt.figure(figsize = (5, 5))\n",
        "for i, idx in enumerate(random_idx):\n",
        "  plt.subplot(3, 3, i+1)\n",
        "  plt.xticks([])\n",
        "  plt.yticks([])\n",
        "  img, label = train_data[idx]\n",
        "  npimg = img.numpy()\n",
        "  plt.imshow(np.transpose(npimg, (1, 2, 0)))\n",
        "  plt.xlabel(class_names[label])\n",
        "plt.show()"
      ],
      "metadata": {
        "colab": {
          "base_uri": "https://localhost:8080/",
          "height": 317
        },
        "id": "udHUace8OZv1",
        "outputId": "4188f411-3b20-4b69-e03c-f7d745b5a897"
      },
      "execution_count": null,
      "outputs": [
        {
          "output_type": "display_data",
          "data": {
            "image/png": "[encoded data removed]",
            "text/plain": [
              "<Figure size 360x360 with 9 Axes>"
            ]
          },
          "metadata": {}
        }
      ]
    },
    {
      "cell_type": "code",
      "source": [
        "#import\n",
        "import torch\n",
        "import torchvision.datasets as dsets\n",
        "import torchvision.transforms as transforms\n",
        "import torch.nn.init"
      ],
      "metadata": {
        "id": "cu-cD1-GRjZv"
      },
      "execution_count": null,
      "outputs": []
    },
    {
      "cell_type": "code",
      "source": [
        "#하이퍼파라미터 설정\n",
        "learning_rate = 0.001\n",
        "training_epochs = 10"
      ],
      "metadata": {
        "id": "w8dOpcAi28mp"
      },
      "execution_count": null,
      "outputs": []
    },
    {
      "cell_type": "code",
      "source": [
        "#모델 구성\n",
        "class CNN(torch.nn.Module):\n",
        "\n",
        "    def __init__(self):\n",
        "        super(CNN, self).__init__()\n",
        "        self.keep_prob = 0.5 #드롭아웃 비율 0.5\n",
        "\n",
        "\n",
        "        #레이어 하나당 합성곱, ReLU, MaxPool 순으로 지나감\n",
        "        self.layer1 = torch.nn.Sequential(\n",
        "            torch.nn.Conv2d(3, 32, kernel_size=3, stride=1, padding=1),\n",
        "            torch.nn.ReLU(),\n",
        "            torch.nn.MaxPool2d(kernel_size=2, stride=2))\n",
        "\n",
        "\n",
        "        self.layer2 = torch.nn.Sequential(\n",
        "            torch.nn.Conv2d(32, 64, kernel_size=3, stride=1, padding=1),\n",
        "            torch.nn.ReLU(),\n",
        "            torch.nn.MaxPool2d(kernel_size=2, stride=2))\n",
        "\n",
        "        self.layer3 = torch.nn.Sequential(\n",
        "            torch.nn.Conv2d(64, 128, kernel_size=3, stride=1, padding=1),\n",
        "            torch.nn.ReLU(),\n",
        "            torch.nn.MaxPool2d(kernel_size=2, stride=2, padding=1))\n",
        "\n",
        "        self.fc1 = torch.nn.Linear(3 * 3 * 128, 625, bias=True)\n",
        "        torch.nn.init.xavier_uniform_(self.fc1.weight) #가중치 초기화\n",
        "\n",
        "        self.layer4 = torch.nn.Sequential(\n",
        "            self.fc1,\n",
        "            torch.nn.ReLU(),\n",
        "            torch.nn.Dropout(p=1 - self.keep_prob)) #드롭아웃\n",
        "\n",
        "\n",
        "        self.fc2 = torch.nn.Linear(625, 10, bias=True)\n",
        "        torch.nn.init.xavier_uniform_(self.fc2.weight)\n",
        "\n",
        "    #연산순서\n",
        "    def forward(self, x):\n",
        "        out = self.layer1(x)\n",
        "        out = self.layer2(out)\n",
        "        out = self.layer3(out)\n",
        "        out = out.view(out.size(0), -1)\n",
        "        out = self.layer4(out)\n",
        "        out = self.fc2(out)\n",
        "        return out"
      ],
      "metadata": {
        "id": "AEYER-YB4HTv"
      },
      "execution_count": null,
      "outputs": []
    },
    {
      "cell_type": "code",
      "source": [
        "#CNN 인스턴스 생성\n",
        "model = CNN().to(DEVICE)"
      ],
      "metadata": {
        "id": "jJW6ovbbHs0n"
      },
      "execution_count": null,
      "outputs": []
    },
    {
      "cell_type": "code",
      "source": [
        "#비용 함수로는 CrossEntropy, optimization함수로는 Adam을 사용합니다.\n",
        "criterion = torch.nn.CrossEntropyLoss().to(DEVICE)    # 비용 함수에 소프트맥스 함수 포함되어져 있음\n",
        "optimizer = torch.optim.Adam(model.parameters(), lr=learning_rate)"
      ],
      "metadata": {
        "id": "tqPrfIJVHsuS"
      },
      "execution_count": null,
      "outputs": []
    },
    {
      "cell_type": "code",
      "source": [
        "total_batch = len(train_loader)\n",
        "print('총 배치의 수 : {}'.format(total_batch))"
      ],
      "metadata": {
        "id": "eq2MOoQkIA38",
        "colab": {
          "base_uri": "https://localhost:8080/"
        },
        "outputId": "f6115d2a-eb1a-4d77-8a6e-71b08460a2cf"
      },
      "execution_count": null,
      "outputs": [
        {
          "output_type": "stream",
          "name": "stdout",
          "text": [
            "총 배치의 수 : 84\n"
          ]
        }
      ]
    },
    {
      "cell_type": "code",
      "source": [
        "#훈련\n",
        "\n",
        "for epoch in range(training_epochs):\n",
        "    avg_cost = 0\n",
        "    accuracy = np.array([])\n",
        "\n",
        "    for X, Y in train_loader: # 미니 배치 단위로 꺼내온다. X는 미니 배치, Y는 레이블.\n",
        "\n",
        "        X = X.to(DEVICE)\n",
        "        Y = Y.to(DEVICE)\n",
        "\n",
        "        optimizer.zero_grad() #optimizer 초기화\n",
        "        hypothesis = model(X) #입력 데이터를 생성한 model에 넣어줌\n",
        "        cost = criterion(hypothesis, Y) #output로 cost값 계산\n",
        "        cost.backward()\n",
        "        optimizer.step()\n",
        "\n",
        "        pred = np.argmax(hypothesis.cpu().detach().numpy(), axis = 1) #모델이 추측한 답\n",
        "        ans = Y.cpu().numpy() #실제 라벨값\n",
        "\n",
        "        accuracy = np.append(accuracy, np.equal(pred, ans)) #모델이 추측한 답과 실제 라벨값의 유사도를 비교\n",
        "\n",
        "        #cost 값 누적\n",
        "        avg_cost += cost / total_batch\n",
        "\n",
        "    #cost 출력\n",
        "    print('[Epoch: {:>4}] cost = {:>.9}'.format(epoch + 1, avg_cost))"
      ],
      "metadata": {
        "id": "pkVu7sYGH7r_",
        "colab": {
          "base_uri": "https://localhost:8080/"
        },
        "outputId": "0f78c13a-cfcc-4134-e3b5-690ec016a022"
      },
      "execution_count": null,
      "outputs": [
        {
          "output_type": "stream",
          "name": "stdout",
          "text": [
            "[Epoch:    1] cost = 0.627369642\n",
            "[Epoch:    2] cost = 0.303071737\n",
            "[Epoch:    3] cost = 0.209734797\n",
            "[Epoch:    4] cost = 0.172480866\n",
            "[Epoch:    5] cost = 0.155386865\n",
            "[Epoch:    6] cost = 0.137778267\n",
            "[Epoch:    7] cost = 0.128076151\n",
            "[Epoch:    8] cost = 0.11256329\n",
            "[Epoch:    9] cost = 0.104604937\n",
            "[Epoch:   10] cost = 0.0986585319\n"
          ]
        }
      ]
    },
    {
      "cell_type": "code",
      "source": [
        "with torch.no_grad():\n",
        "    X = X.to(DEVICE)\n",
        "    Y = Y.to(DEVICE)\n",
        "\n",
        "    pred = np.argmax(hypothesis.cpu().detach().numpy(), axis = 1)\n",
        "    ans = Y.cpu().numpy()\n",
        "\n",
        "    accuracy = np.append(accuracy, np.equal(pred,ans))\n",
        "\n",
        "    print('acc', '{:.4f}'.format(np.mean(accuracy))) #정확도의 평균을 출력"
      ],
      "metadata": {
        "id": "QQYTmo-ysJPz",
        "colab": {
          "base_uri": "https://localhost:8080/"
        },
        "outputId": "8bd8db1c-66d5-48ff-eb2f-8f6cb6e723f7"
      },
      "execution_count": null,
      "outputs": [
        {
          "output_type": "stream",
          "name": "stdout",
          "text": [
            "acc 0.9666\n"
          ]
        }
      ]
    },
    {
      "cell_type": "code",
      "source": [
        "model.eval() # test시에는 dropout을 꺼준다.\n",
        "correct = 0\n",
        "total = 0\n",
        "\n",
        "for image, label in test_loader:\n",
        "  x = image.to(torch.device('cuda'))\n",
        "  y_ = label.to(torch.device('cuda'))\n",
        "\n",
        "  output = model.forward(x)\n",
        "  _, output_index = torch.max(output,1) # output을 인덱스 1방향으로 최고를 뽑아줌\n",
        "  total += label.size(0)\n",
        "  correct += (output_index == y_).sum().float()\n",
        "\n",
        "print('Acc : {}'.format(100*correct/total))"
      ],
      "metadata": {
        "id": "BcldeXYZ1sxk",
        "colab": {
          "base_uri": "https://localhost:8080/"
        },
        "outputId": "06f754da-3f77-4b68-fc73-ee371b4b48db"
      },
      "execution_count": null,
      "outputs": [
        {
          "output_type": "stream",
          "name": "stdout",
          "text": [
            "Acc : 94.52777862548828\n"
          ]
        }
      ]
    },
    {
      "cell_type": "code",
      "source": [
        "import random \n",
        "\n",
        "cmap_lst = plt.cm.rainbow\n",
        "\n",
        "with torch.no_grad():\n",
        "  r = random.randint(1, len(y_)-1)\n",
        "  single_x = x[r:r+1].to(DEVICE)\n",
        "  single_y = y_[r:r+1].to(DEVICE)\n",
        "  prediction = model(single_x)\n",
        "  print('실제 값:', single_y.item())\n",
        "  print('예측 값:', torch.argmax(prediction,1).item())\n",
        "  #plt.imshow(test_loader.test_data[r:r + 1].view(28, 28), cmap='Greys', interpolation='nearest')\n",
        "  #plt.show()\n"
      ],
      "metadata": {
        "id": "upeExheLwYfE",
        "colab": {
          "base_uri": "https://localhost:8080/"
        },
        "outputId": "f254e452-6e4e-4d32-ba21-774ef40015ad"
      },
      "execution_count": null,
      "outputs": [
        {
          "output_type": "stream",
          "name": "stdout",
          "text": [
            "실제 값: 1\n",
            "예측 값: 1\n"
          ]
        }
      ]
    },
    {
      "cell_type": "code",
      "source": [
        "torch.save(model, '/content/drive/MyDrive/PeaceLoveFree.pth')"
      ],
      "metadata": {
        "id": "IgKsZvaoxddg"
      },
      "execution_count": null,
      "outputs": []
    },
    {
      "cell_type": "code",
      "source": [
        "model = torch.load('/content/drive/MyDrive/PeaceLoveFree.pth')"
      ],
      "metadata": {
        "id": "zGp62ibOGYqQ"
      },
      "execution_count": null,
      "outputs": []
    },
    {
      "cell_type": "code",
      "source": [
        "test_data_path = \"/content/drive/MyDrive/ho/test\"\n",
        "\n",
        "\n",
        "Baby_test_data = torchvision.datasets.ImageFolder(root = test_data_path, transform = trans)\n",
        "\n",
        "\n",
        "test_loader = torch.utils.data.DataLoader(Baby_test_data, batch_size= 100, shuffle= False)"
      ],
      "metadata": {
        "id": "BORj0o6iKohh"
      },
      "execution_count": null,
      "outputs": []
    },
    {
      "cell_type": "code",
      "source": [
        "model.eval() # test시에는 dropout을 꺼준다.\n",
        "correct = 0\n",
        "total = 0\n",
        "\n",
        "for image, label in test_loader:\n",
        "  x = image.to(torch.device('cuda'))\n",
        "  y_ = label.to(torch.device('cuda'))\n",
        "\n",
        "  output = model.forward(x)\n",
        "  _, output_index = torch.max(output,1) # output을 인덱스 1방향으로 최고를 뽑아줌\n",
        "  total += label.size(0)\n",
        "  correct += (output_index == y_).sum().float()\n",
        "\n",
        "print('Acc : {}'.format(100*correct/total))"
      ],
      "metadata": {
        "colab": {
          "base_uri": "https://localhost:8080/"
        },
        "id": "JJiYxQdyI_A_",
        "outputId": "e8949d3f-bfb2-475f-830b-50517053fd08"
      },
      "execution_count": null,
      "outputs": [
        {
          "output_type": "stream",
          "name": "stdout",
          "text": [
            "Acc : 80.0\n"
          ]
        }
      ]
    }
  ]
}